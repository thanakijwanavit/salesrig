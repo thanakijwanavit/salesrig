{
 "cells": [
  {
   "cell_type": "markdown",
   "metadata": {},
   "source": [
    "# Project datarig"
   ]
  },
  {
   "cell_type": "markdown",
   "metadata": {},
   "source": [
    "## Sales Forecasting \n",
    "\n",
    "### Overview\n",
    "Forecasting tool that helps predict the sales of electric fans using historical weather data with other external variables and location-specific information. It is apparent that there is a correlation between the sales of electric fans and the weather patterns. Weather conditions can result in significant fluctuations in consumer demand of the product.\n",
    "\n",
    "### Understanding the problems \n",
    "#### Problems that come with inconsistency in the weather patterns\n",
    "* Inaccuracy in sales forecast\n",
    "* Production planning: human resource management, raw material management\n",
    "* Loss of sales due to product running out of stock\n",
    "* Overstock causes a high depreciation and unnecessary storage cost\n",
    "* Warehouse has a limite capacity\n",
    "\n",
    "#### What has already been done?\n",
    "\n",
    "* Currently operating on the basis of hunches, instincts and past experiences of sales manager.\n",
    "\n",
    "### What would be the next?\n",
    "#### A closer look at:\n",
    "1. Temperature impact \n",
    "2. Precipitation impact\n",
    "3. Humidity impace \n",
    "** we realise that one of the product category relies heavily on the humidity to function properly\n",
    "Benefits\n",
    "\n",
    "#### Operation standpoints: \n",
    "* Better manage inventory and resources \n",
    "* Help with production planning \n",
    "* Verifying the hunches "
   ]
  },
  {
   "cell_type": "markdown",
   "metadata": {},
   "source": [
    "First model"
   ]
  },
  {
   "cell_type": "markdown",
   "metadata": {},
   "source": [
    "the link to the presentation is here\n",
    "here is the link to the full presentation\n",
    "\n",
    "http://bit.ly/salesrig"
   ]
  },
  {
   "cell_type": "code",
   "execution_count": null,
   "metadata": {},
   "outputs": [],
   "source": []
  }
 ],
 "metadata": {
  "kernelspec": {
   "display_name": "Python 3",
   "language": "python",
   "name": "python3"
  },
  "language_info": {
   "codemirror_mode": {
    "name": "ipython",
    "version": 3
   },
   "file_extension": ".py",
   "mimetype": "text/x-python",
   "name": "python",
   "nbconvert_exporter": "python",
   "pygments_lexer": "ipython3",
   "version": "3.6.1"
  }
 },
 "nbformat": 4,
 "nbformat_minor": 2
}
