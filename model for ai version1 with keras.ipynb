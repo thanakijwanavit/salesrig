{
 "cells": [
  {
   "cell_type": "code",
   "execution_count": 2,
   "metadata": {},
   "outputs": [
    {
     "name": "stderr",
     "output_type": "stream",
     "text": [
      "Using TensorFlow backend.\n"
     ]
    }
   ],
   "source": [
    "# Suppress TensorFlow and Keras warnings for cleaner output\n",
    "import warnings\n",
    "warnings.simplefilter(\"ignore\")\n",
    "\n",
    "import numpy as np\n",
    "import pandas as pd\n",
    "import matplotlib.pyplot as plt\n",
    "import keras\n",
    "\n",
    "%matplotlib inline"
   ]
  },
  {
   "cell_type": "markdown",
   "metadata": {},
   "source": [
    "# prototype with mock data"
   ]
  },
  {
   "cell_type": "code",
   "execution_count": 13,
   "metadata": {},
   "outputs": [
    {
     "name": "stdout",
     "output_type": "stream",
     "text": [
      "Iris Plants Database\n",
      "====================\n",
      "\n",
      "Notes\n",
      "-----\n",
      "Data Set Characteristics:\n",
      "    :Number of Instances: 150 (50 in each of three classes)\n",
      "    :Number of Attributes: 4 numeric, predictive attributes and the class\n",
      "    :Attribute Information:\n",
      "        - sepal length in cm\n",
      "        - sepal width in cm\n",
      "        - petal length in cm\n",
      "        - petal width in cm\n",
      "        - class:\n",
      "                - Iris-Setosa\n",
      "                - Iris-Versicolour\n",
      "                - Iris-Virginica\n",
      "    :Summary Statistics:\n",
      "\n",
      "    ============== ==== ==== ======= ===== ====================\n",
      "                    Min  Max   Mean    SD   Class Correlation\n",
      "    ============== ==== ==== ======= ===== ====================\n",
      "    sepal length:   4.3  7.9   5.84   0.83    0.7826\n",
      "    sepal width:    2.0  4.4   3.05   0.43   -0.4194\n",
      "    petal length:   1.0  6.9   3.76   1.76    0.9490  (high!)\n",
      "    petal width:    0.1  2.5   1.20  0.76     0.9565  (high!)\n",
      "    ============== ==== ==== ======= ===== ===================\n"
     ]
    }
   ],
   "source": [
    "from sklearn import datasets\n",
    "from sklearn.model_selection import train_test_split\n",
    "import pandas as pd\n",
    "\n",
    "data = datasets.load_iris()\n",
    "print(data.DESCR[:980])\n",
    "\n",
    "x = data['data']\n",
    "y = data['target']\n",
    "y = pd.get_dummies(y).values"
   ]
  },
  {
   "cell_type": "markdown",
   "metadata": {},
   "source": [
    "# Split data into test train"
   ]
  },
  {
   "cell_type": "code",
   "execution_count": 14,
   "metadata": {},
   "outputs": [],
   "source": [
    "# create random number\n",
    "from datetime import datetime\n",
    "dt = datetime.now()\n",
    "dt.microsecond\n",
    "\n",
    "\n",
    "\n",
    "\n",
    "testTrainRatio=0.2\n",
    "\n",
    "# train test split\n",
    "X_train, X_test, y_train, y_test = train_test_split(x, \n",
    "                                                    y, test_size=testTrainRatio,\n",
    "                                                    random_state=dt.microsecond,\n",
    "                                                   shuffle=True)"
   ]
  },
  {
   "cell_type": "code",
   "execution_count": 15,
   "metadata": {},
   "outputs": [
    {
     "name": "stdout",
     "output_type": "stream",
     "text": [
      "(120, 4)\n",
      "(120, 3)\n",
      "(30, 4)\n"
     ]
    }
   ],
   "source": [
    "#just check the shapes\n",
    "\n",
    "print(X_train.shape)\n",
    "print(y_train.shape)\n",
    "print(X_test.shape)"
   ]
  },
  {
   "cell_type": "markdown",
   "metadata": {},
   "source": [
    "# model initialization"
   ]
  },
  {
   "cell_type": "code",
   "execution_count": 16,
   "metadata": {},
   "outputs": [],
   "source": [
    "from keras.models import Sequential\n",
    "\n",
    "model = Sequential() # instantiate empty Sequential model\n",
    "\n",
    "# model contruction (architecture build computational graph)\n",
    "from keras.layers import Dense\n",
    "\n",
    "model.add( Dense(units=64, activation='relu', input_shape=(4,) ))\n",
    "model.add( Dense(units=3, activation='softmax') )"
   ]
  },
  {
   "cell_type": "code",
   "execution_count": 17,
   "metadata": {},
   "outputs": [],
   "source": [
    "model.compile(loss = 'categorical_crossentropy',\n",
    "             optimizer = 'adam',\n",
    "             metrics = ['accuracy'])"
   ]
  },
  {
   "cell_type": "markdown",
   "metadata": {},
   "source": [
    "## fitting the data"
   ]
  },
  {
   "cell_type": "code",
   "execution_count": 18,
   "metadata": {},
   "outputs": [
    {
     "name": "stdout",
     "output_type": "stream",
     "text": [
      "Epoch 1/50\n",
      "120/120 [==============================] - 0s 2ms/step - loss: 1.0227 - acc: 0.5083\n",
      "Epoch 2/50\n",
      "120/120 [==============================] - 0s 48us/step - loss: 0.9765 - acc: 0.4333\n",
      "Epoch 3/50\n",
      "120/120 [==============================] - 0s 66us/step - loss: 0.9410 - acc: 0.4667\n",
      "Epoch 4/50\n",
      "120/120 [==============================] - 0s 62us/step - loss: 0.9042 - acc: 0.6750\n",
      "Epoch 5/50\n",
      "120/120 [==============================] - 0s 61us/step - loss: 0.8694 - acc: 0.6750\n",
      "Epoch 6/50\n",
      "120/120 [==============================] - 0s 60us/step - loss: 0.8361 - acc: 0.6917\n",
      "Epoch 7/50\n",
      "120/120 [==============================] - 0s 74us/step - loss: 0.8071 - acc: 0.7000\n",
      "Epoch 8/50\n",
      "120/120 [==============================] - 0s 56us/step - loss: 0.7777 - acc: 0.7167\n",
      "Epoch 9/50\n",
      "120/120 [==============================] - 0s 72us/step - loss: 0.7524 - acc: 0.7917\n",
      "Epoch 10/50\n",
      "120/120 [==============================] - 0s 52us/step - loss: 0.7276 - acc: 0.8083\n",
      "Epoch 11/50\n",
      "120/120 [==============================] - 0s 53us/step - loss: 0.7051 - acc: 0.8083\n",
      "Epoch 12/50\n",
      "120/120 [==============================] - 0s 60us/step - loss: 0.6915 - acc: 0.7250\n",
      "Epoch 13/50\n",
      "120/120 [==============================] - 0s 62us/step - loss: 0.6688 - acc: 0.7167\n",
      "Epoch 14/50\n",
      "120/120 [==============================] - 0s 64us/step - loss: 0.6503 - acc: 0.7750\n",
      "Epoch 15/50\n",
      "120/120 [==============================] - 0s 79us/step - loss: 0.6352 - acc: 0.8167\n",
      "Epoch 16/50\n",
      "120/120 [==============================] - 0s 66us/step - loss: 0.6223 - acc: 0.8333\n",
      "Epoch 17/50\n",
      "120/120 [==============================] - 0s 64us/step - loss: 0.6079 - acc: 0.8417\n",
      "Epoch 18/50\n",
      "120/120 [==============================] - 0s 58us/step - loss: 0.5945 - acc: 0.8333\n",
      "Epoch 19/50\n",
      "120/120 [==============================] - 0s 63us/step - loss: 0.5824 - acc: 0.8250\n",
      "Epoch 20/50\n",
      "120/120 [==============================] - 0s 85us/step - loss: 0.5707 - acc: 0.8250\n",
      "Epoch 21/50\n",
      "120/120 [==============================] - 0s 59us/step - loss: 0.5606 - acc: 0.8083\n",
      "Epoch 22/50\n",
      "120/120 [==============================] - 0s 78us/step - loss: 0.5504 - acc: 0.8167\n",
      "Epoch 23/50\n",
      "120/120 [==============================] - 0s 53us/step - loss: 0.5401 - acc: 0.8167\n",
      "Epoch 24/50\n",
      "120/120 [==============================] - 0s 77us/step - loss: 0.5311 - acc: 0.8500\n",
      "Epoch 25/50\n",
      "120/120 [==============================] - 0s 57us/step - loss: 0.5255 - acc: 0.9000\n",
      "Epoch 26/50\n",
      "120/120 [==============================] - 0s 87us/step - loss: 0.5137 - acc: 0.8917\n",
      "Epoch 27/50\n",
      "120/120 [==============================] - 0s 66us/step - loss: 0.5058 - acc: 0.8417\n",
      "Epoch 28/50\n",
      "120/120 [==============================] - 0s 70us/step - loss: 0.4973 - acc: 0.8167\n",
      "Epoch 29/50\n",
      "120/120 [==============================] - 0s 95us/step - loss: 0.4896 - acc: 0.8250\n",
      "Epoch 30/50\n",
      "120/120 [==============================] - 0s 67us/step - loss: 0.4823 - acc: 0.8750\n",
      "Epoch 31/50\n",
      "120/120 [==============================] - 0s 74us/step - loss: 0.4751 - acc: 0.8917\n",
      "Epoch 32/50\n",
      "120/120 [==============================] - 0s 66us/step - loss: 0.4686 - acc: 0.9083\n",
      "Epoch 33/50\n",
      "120/120 [==============================] - 0s 77us/step - loss: 0.4619 - acc: 0.8917\n",
      "Epoch 34/50\n",
      "120/120 [==============================] - 0s 80us/step - loss: 0.4570 - acc: 0.8750\n",
      "Epoch 35/50\n",
      "120/120 [==============================] - 0s 71us/step - loss: 0.4505 - acc: 0.8833\n",
      "Epoch 36/50\n",
      "120/120 [==============================] - 0s 71us/step - loss: 0.4457 - acc: 0.8750\n",
      "Epoch 37/50\n",
      "120/120 [==============================] - 0s 77us/step - loss: 0.4408 - acc: 0.8917\n",
      "Epoch 38/50\n",
      "120/120 [==============================] - 0s 88us/step - loss: 0.4348 - acc: 0.9333\n",
      "Epoch 39/50\n",
      "120/120 [==============================] - 0s 72us/step - loss: 0.4296 - acc: 0.9167\n",
      "Epoch 40/50\n",
      "120/120 [==============================] - 0s 71us/step - loss: 0.4234 - acc: 0.9167\n",
      "Epoch 41/50\n",
      "120/120 [==============================] - 0s 66us/step - loss: 0.4185 - acc: 0.9083\n",
      "Epoch 42/50\n",
      "120/120 [==============================] - 0s 79us/step - loss: 0.4139 - acc: 0.9167\n",
      "Epoch 43/50\n",
      "120/120 [==============================] - 0s 47us/step - loss: 0.4089 - acc: 0.9167\n",
      "Epoch 44/50\n",
      "120/120 [==============================] - 0s 61us/step - loss: 0.4045 - acc: 0.9167\n",
      "Epoch 45/50\n",
      "120/120 [==============================] - 0s 81us/step - loss: 0.4002 - acc: 0.9250\n",
      "Epoch 46/50\n",
      "120/120 [==============================] - 0s 60us/step - loss: 0.3963 - acc: 0.9083\n",
      "Epoch 47/50\n",
      "120/120 [==============================] - 0s 78us/step - loss: 0.3910 - acc: 0.9167\n",
      "Epoch 48/50\n",
      "120/120 [==============================] - 0s 67us/step - loss: 0.3920 - acc: 0.9417\n",
      "Epoch 49/50\n",
      "120/120 [==============================] - 0s 70us/step - loss: 0.3833 - acc: 0.9667\n",
      "Epoch 50/50\n",
      "120/120 [==============================] - 0s 89us/step - loss: 0.3780 - acc: 0.9500\n"
     ]
    },
    {
     "data": {
      "text/plain": [
       "<keras.callbacks.History at 0x126567668>"
      ]
     },
     "execution_count": 18,
     "metadata": {},
     "output_type": "execute_result"
    }
   ],
   "source": [
    "# Fit the model by iterating over the training data in batches\n",
    "\n",
    "model.fit(X_train, y_train, epochs = 50, batch_size= 32)"
   ]
  },
  {
   "cell_type": "code",
   "execution_count": 12,
   "metadata": {},
   "outputs": [
    {
     "data": {
      "text/plain": [
       "1.0"
      ]
     },
     "execution_count": 12,
     "metadata": {},
     "output_type": "execute_result"
    }
   ],
   "source": [
    "# # Evaluate the model Accuracy on test set\n",
    "model.evaluate(X_test, y_test, batch_size=60,verbose=False)[1]"
   ]
  },
  {
   "cell_type": "markdown",
   "metadata": {},
   "source": [
    "# Import the sales data from file"
   ]
  },
  {
   "cell_type": "code",
   "execution_count": 35,
   "metadata": {},
   "outputs": [
    {
     "data": {
      "text/html": [
       "<div>\n",
       "<style scoped>\n",
       "    .dataframe tbody tr th:only-of-type {\n",
       "        vertical-align: middle;\n",
       "    }\n",
       "\n",
       "    .dataframe tbody tr th {\n",
       "        vertical-align: top;\n",
       "    }\n",
       "\n",
       "    .dataframe thead th {\n",
       "        text-align: right;\n",
       "    }\n",
       "</style>\n",
       "<table border=\"1\" class=\"dataframe\">\n",
       "  <thead>\n",
       "    <tr style=\"text-align: right;\">\n",
       "      <th></th>\n",
       "      <th>Unnamed: 0</th>\n",
       "      <th>Jan</th>\n",
       "      <th>Feb</th>\n",
       "      <th>Mar</th>\n",
       "      <th>Apr</th>\n",
       "      <th>May</th>\n",
       "      <th>Jun</th>\n",
       "      <th>Jul</th>\n",
       "      <th>Aug</th>\n",
       "      <th>Sep</th>\n",
       "      <th>Oct</th>\n",
       "      <th>Nov</th>\n",
       "      <th>Dec</th>\n",
       "    </tr>\n",
       "  </thead>\n",
       "  <tbody>\n",
       "    <tr>\n",
       "      <th>0</th>\n",
       "      <td>2015</td>\n",
       "      <td>1.000000</td>\n",
       "      <td>0.901124</td>\n",
       "      <td>2.024719</td>\n",
       "      <td>1.303371</td>\n",
       "      <td>1.370787</td>\n",
       "      <td>1.132584</td>\n",
       "      <td>1.101124</td>\n",
       "      <td>0.910112</td>\n",
       "      <td>1.101124</td>\n",
       "      <td>0.943820</td>\n",
       "      <td>1.146067</td>\n",
       "      <td>1.393258</td>\n",
       "    </tr>\n",
       "    <tr>\n",
       "      <th>1</th>\n",
       "      <td>2016</td>\n",
       "      <td>1.319101</td>\n",
       "      <td>1.101124</td>\n",
       "      <td>2.056180</td>\n",
       "      <td>1.955056</td>\n",
       "      <td>1.516854</td>\n",
       "      <td>0.932584</td>\n",
       "      <td>1.056180</td>\n",
       "      <td>0.977528</td>\n",
       "      <td>1.134831</td>\n",
       "      <td>0.932584</td>\n",
       "      <td>1.029213</td>\n",
       "      <td>1.191011</td>\n",
       "    </tr>\n",
       "    <tr>\n",
       "      <th>2</th>\n",
       "      <td>2017</td>\n",
       "      <td>1.168539</td>\n",
       "      <td>1.067416</td>\n",
       "      <td>2.112360</td>\n",
       "      <td>1.404494</td>\n",
       "      <td>1.460674</td>\n",
       "      <td>1.089888</td>\n",
       "      <td>0.943820</td>\n",
       "      <td>1.235955</td>\n",
       "      <td>1.213483</td>\n",
       "      <td>1.112360</td>\n",
       "      <td>1.179775</td>\n",
       "      <td>1.262921</td>\n",
       "    </tr>\n",
       "  </tbody>\n",
       "</table>\n",
       "</div>"
      ],
      "text/plain": [
       "   Unnamed: 0       Jan       Feb       Mar       Apr       May       Jun  \\\n",
       "0        2015  1.000000  0.901124  2.024719  1.303371  1.370787  1.132584   \n",
       "1        2016  1.319101  1.101124  2.056180  1.955056  1.516854  0.932584   \n",
       "2        2017  1.168539  1.067416  2.112360  1.404494  1.460674  1.089888   \n",
       "\n",
       "        Jul       Aug       Sep       Oct       Nov       Dec  \n",
       "0  1.101124  0.910112  1.101124  0.943820  1.146067  1.393258  \n",
       "1  1.056180  0.977528  1.134831  0.932584  1.029213  1.191011  \n",
       "2  0.943820  1.235955  1.213483  1.112360  1.179775  1.262921  "
      ]
     },
     "execution_count": 35,
     "metadata": {},
     "output_type": "execute_result"
    }
   ],
   "source": [
    "# Read data from file 'filename.csv' \n",
    "# (in the same directory that your python process is based)\n",
    "# Control delimiters, rows, column names with read_csv (see later) \n",
    "salesdata = pd.read_csv(\"Data 2015_2017.csv\") \n",
    "# Preview the first 5 lines of the loaded data \n",
    "salesdata.rename(index=str, columns={\"Unnamed: 0\": \"Year\"})\n",
    "salesdata.reindex()\n",
    "#salesdata.set_index('Year')"
   ]
  },
  {
   "cell_type": "code",
   "execution_count": null,
   "metadata": {},
   "outputs": [],
   "source": []
  }
 ],
 "metadata": {
  "kernelspec": {
   "display_name": "Python 3",
   "language": "python",
   "name": "python3"
  },
  "language_info": {
   "codemirror_mode": {
    "name": "ipython",
    "version": 3
   },
   "file_extension": ".py",
   "mimetype": "text/x-python",
   "name": "python",
   "nbconvert_exporter": "python",
   "pygments_lexer": "ipython3",
   "version": "3.6.1"
  }
 },
 "nbformat": 4,
 "nbformat_minor": 2
}
